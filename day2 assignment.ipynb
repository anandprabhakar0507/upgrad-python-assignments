{
 "cells": [
  {
   "cell_type": "code",
   "execution_count": 24,
   "metadata": {},
   "outputs": [
    {
     "name": "stdout",
     "output_type": "stream",
     "text": [
      "python\n",
      "Hello world\n",
      "I am Anand Prabhakar\n",
      "i am learning from upgrad\n",
      "Upgrad is a very nice platform\n",
      "['Anand', 'Prabhakar']\n",
      "AnandPrabhakar\n",
      "Prabhakar\n",
      "rakahbarP dnanA ['Prabhakar', 'Anand']\n",
      "<class 'str'>\n"
     ]
    }
   ],
   "source": [
    "print(\"python\")\n",
    "print(\"Hello world\")\n",
    "print(\"I am Anand Prabhakar\")\n",
    "print(\"i am learning from upgrad\")\n",
    "print(\"Upgrad is a very nice platform\")\n",
    "\n",
    "x= \"Anand Prabhakar\"\n",
    "print(x.split(' '))\n",
    "y= x.split(' ')\n",
    "print(''.join(y))\n",
    "print(x[6:])\n",
    "print(x[::-1],y[::-1])\n",
    "print(type(x))\n",
    "print("
   ]
  },
  {
   "cell_type": "code",
   "execution_count": 31,
   "metadata": {
    "scrolled": true
   },
   "outputs": [
    {
     "data": {
      "text/plain": [
       "['__add__',\n",
       " '__class__',\n",
       " '__contains__',\n",
       " '__delattr__',\n",
       " '__delitem__',\n",
       " '__dir__',\n",
       " '__doc__',\n",
       " '__eq__',\n",
       " '__format__',\n",
       " '__ge__',\n",
       " '__getattribute__',\n",
       " '__getitem__',\n",
       " '__gt__',\n",
       " '__hash__',\n",
       " '__iadd__',\n",
       " '__imul__',\n",
       " '__init__',\n",
       " '__init_subclass__',\n",
       " '__iter__',\n",
       " '__le__',\n",
       " '__len__',\n",
       " '__lt__',\n",
       " '__mul__',\n",
       " '__ne__',\n",
       " '__new__',\n",
       " '__reduce__',\n",
       " '__reduce_ex__',\n",
       " '__repr__',\n",
       " '__reversed__',\n",
       " '__rmul__',\n",
       " '__setattr__',\n",
       " '__setitem__',\n",
       " '__sizeof__',\n",
       " '__str__',\n",
       " '__subclasshook__',\n",
       " 'append',\n",
       " 'clear',\n",
       " 'copy',\n",
       " 'count',\n",
       " 'extend',\n",
       " 'index',\n",
       " 'insert',\n",
       " 'pop',\n",
       " 'remove',\n",
       " 'reverse',\n",
       " 'sort']"
      ]
     },
     "execution_count": 31,
     "metadata": {},
     "output_type": "execute_result"
    }
   ],
   "source": [
    "dir(list)"
   ]
  },
  {
   "cell_type": "code",
   "execution_count": 37,
   "metadata": {},
   "outputs": [
    {
     "name": "stdout",
     "output_type": "stream",
     "text": [
      "['Anand', 'prabhakar', 'python', 'upgrad', '2020']\n",
      "5\n",
      "<class 'list'>\n",
      "['2020', 'upgrad', 'python', 'prabhakar', 'Anand']\n",
      "<list_reverseiterator object at 0x7f3064968fd0>\n",
      "2020\n",
      "None\n",
      "['Anand', 'prabhakar', 'upgrad']\n"
     ]
    }
   ],
   "source": [
    "x= ['Anand','prabhakar','python','upgrad','2020']\n",
    "print(x)\n",
    "print(len(x))\n",
    "print(type(x))\n",
    "print(x[::-1])\n",
    "y = reversed(x)\n",
    "print(y)\n",
    "print(x.pop())\n",
    "print(x.remove('python'))\n",
    "print(x)\n",
    "\n",
    "\n",
    "\n",
    "\n"
   ]
  },
  {
   "cell_type": "code",
   "execution_count": 43,
   "metadata": {
    "scrolled": true
   },
   "outputs": [
    {
     "data": {
      "text/plain": [
       "['__class__',\n",
       " '__contains__',\n",
       " '__delattr__',\n",
       " '__delitem__',\n",
       " '__dir__',\n",
       " '__doc__',\n",
       " '__eq__',\n",
       " '__format__',\n",
       " '__ge__',\n",
       " '__getattribute__',\n",
       " '__getitem__',\n",
       " '__gt__',\n",
       " '__hash__',\n",
       " '__init__',\n",
       " '__init_subclass__',\n",
       " '__iter__',\n",
       " '__le__',\n",
       " '__len__',\n",
       " '__lt__',\n",
       " '__ne__',\n",
       " '__new__',\n",
       " '__reduce__',\n",
       " '__reduce_ex__',\n",
       " '__repr__',\n",
       " '__setattr__',\n",
       " '__setitem__',\n",
       " '__sizeof__',\n",
       " '__str__',\n",
       " '__subclasshook__',\n",
       " 'clear',\n",
       " 'copy',\n",
       " 'fromkeys',\n",
       " 'get',\n",
       " 'items',\n",
       " 'keys',\n",
       " 'pop',\n",
       " 'popitem',\n",
       " 'setdefault',\n",
       " 'update',\n",
       " 'values']"
      ]
     },
     "execution_count": 43,
     "metadata": {},
     "output_type": "execute_result"
    }
   ],
   "source": [
    "dir(dict)"
   ]
  },
  {
   "cell_type": "code",
   "execution_count": 50,
   "metadata": {},
   "outputs": [
    {
     "name": "stdout",
     "output_type": "stream",
     "text": [
      "2\n",
      "<class 'dict'>\n",
      "dict_values(['Anand', 'Prabhakar'])\n",
      "Prabhakar\n",
      "Prabhakar\n",
      "dict_items([(1, 'Anand')])\n"
     ]
    }
   ],
   "source": [
    "x={1:'Anand',2:'Prabhakar'}\n",
    "print (len(x))\n",
    "print(type(x))\n",
    "print(x.values())\n",
    "print(x.get(2))\n",
    "print(x.pop(2))\n",
    "print(x.items())\n",
    "\n",
    "\n"
   ]
  },
  {
   "cell_type": "code",
   "execution_count": null,
   "metadata": {},
   "outputs": [],
   "source": []
  },
  {
   "cell_type": "code",
   "execution_count": null,
   "metadata": {},
   "outputs": [],
   "source": []
  }
 ],
 "metadata": {
  "kernelspec": {
   "display_name": "Python 3",
   "language": "python",
   "name": "python3"
  },
  "language_info": {
   "codemirror_mode": {
    "name": "ipython",
    "version": 3
   },
   "file_extension": ".py",
   "mimetype": "text/x-python",
   "name": "python",
   "nbconvert_exporter": "python",
   "pygments_lexer": "ipython3",
   "version": "3.7.8"
  }
 },
 "nbformat": 4,
 "nbformat_minor": 4
}
